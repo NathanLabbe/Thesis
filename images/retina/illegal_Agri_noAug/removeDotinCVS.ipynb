{
 "cells": [
  {
   "cell_type": "code",
   "execution_count": 3,
   "metadata": {},
   "outputs": [],
   "source": [
    "import os\n",
    "import csv\n",
    "\n",
    "\n"
   ]
  },
  {
   "cell_type": "code",
   "execution_count": 32,
   "metadata": {},
   "outputs": [
    {
     "name": "stdout",
     "output_type": "stream",
     "text": [
      "Python 3.8.5\n"
     ]
    }
   ],
   "source": [
    "!python --version"
   ]
  },
  {
   "cell_type": "code",
   "execution_count": 8,
   "metadata": {},
   "outputs": [],
   "source": [
    "def clean(input):\n",
    "    tmpFile = \"tmp.csv\"\n",
    "    independant = []\n",
    "    with open(input, \"r\") as file, open(tmpFile, \"w\",newline='') as outFile:\n",
    "        reader = csv.reader(file, delimiter=',')\n",
    "        writer = csv.writer(outFile, delimiter=',')\n",
    "        header = next(reader)\n",
    "        writer.writerow(header)\n",
    "        for row in reader:\n",
    "            x=0\n",
    "            for col in row:\n",
    "                if x==0:\n",
    "                    if col not in independant:\n",
    "                        independant.append(col)\n",
    "                x+=1\n",
    "           \n",
    "    print(len(independant))\n",
    "   "
   ]
  },
  {
   "cell_type": "code",
   "execution_count": 12,
   "metadata": {},
   "outputs": [
    {
     "name": "stdout",
     "output_type": "stream",
     "text": [
      "134\n"
     ]
    }
   ],
   "source": [
    "clean('val_annotations.csv')"
   ]
  }
 ],
 "metadata": {
  "kernelspec": {
   "display_name": "labelimg",
   "language": "python",
   "name": "labelimg"
  },
  "language_info": {
   "codemirror_mode": {
    "name": "ipython",
    "version": 3
   },
   "file_extension": ".py",
   "mimetype": "text/x-python",
   "name": "python",
   "nbconvert_exporter": "python",
   "pygments_lexer": "ipython3",
   "version": "3.7.9"
  }
 },
 "nbformat": 4,
 "nbformat_minor": 4
}
