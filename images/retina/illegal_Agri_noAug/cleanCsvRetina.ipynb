{
 "cells": [
  {
   "cell_type": "code",
   "execution_count": 1,
   "metadata": {},
   "outputs": [],
   "source": [
    "import os\n",
    "import csv"
   ]
  },
  {
   "cell_type": "code",
   "execution_count": 22,
   "metadata": {},
   "outputs": [],
   "source": [
    "def clean(input):\n",
    "    tmpFile = \"tmp.csv\"\n",
    "    with open(input, \"r\") as file, open(tmpFile, \"w\",newline='') as outFile:\n",
    "        reader = csv.reader(file, delimiter=',')\n",
    "        writer = csv.writer(outFile, delimiter=',')\n",
    "        header = next(reader)\n",
    "        writer.writerow(header)\n",
    "        for row in reader:\n",
    "            x=0\n",
    "            colValues = []\n",
    "            t=0\n",
    "            for col in row:\n",
    "                if x==3 or x==4 or x==5 or x==6:\n",
    "                    if col=='':\n",
    "                        t=1\n",
    "                        colValues.append(col)\n",
    "                    else:\n",
    "                        colValues.append(int(float(col)))\n",
    "                else:\n",
    "                    if (x==1) or (x==2):\n",
    "                        print(\"skip\")\n",
    "                    else:\n",
    "                        colValues.append(col)\n",
    "                x+=1\n",
    "            if t==0:\n",
    "                if (colValues[1]<colValues[3]) and (colValues[2]<colValues[4]):\n",
    "                    writer.writerow(colValues)\n",
    "                else:\n",
    "                    newColValues=[]\n",
    "                    newColValues[0]=colValues[0]\n",
    "                    newColValues[1]=colValues[3]\n",
    "                    newColValues[2]=colValues[4]\n",
    "                    newColValues[3]=colValues[1]\n",
    "                    newColValues[4]=colValues[2]\n",
    "                    writer.writerow(newColValues)\n",
    "                    \n",
    "    os.rename(tmpFile,'newlabels.csv')"
   ]
  },
  {
   "cell_type": "code",
   "execution_count": 9,
   "metadata": {},
   "outputs": [],
   "source": [
    "def cleanAug(input):\n",
    "    tmpFile = \"tmp.csv\"\n",
    "    with open(input, \"r\") as file, open(tmpFile, \"w\",newline='') as outFile:\n",
    "        reader = csv.reader(file, delimiter=',')\n",
    "        writer = csv.writer(outFile, delimiter=',')\n",
    "        header = next(reader)\n",
    "        writer.writerow(header)\n",
    "        for row in reader:\n",
    "            colValues = []\n",
    "            if not(\"aug1\" in row[0]):\n",
    "                for col in row:\n",
    "                    colValues.append(col)\n",
    "                writer.writerow(colValues)\n",
    "                    \n",
    "    os.rename(tmpFile,'test.csv')"
   ]
  },
  {
   "cell_type": "code",
   "execution_count": 11,
   "metadata": {},
   "outputs": [],
   "source": [
    "cleanAug('csv/val_annotations.csv')"
   ]
  }
 ],
 "metadata": {
  "kernelspec": {
   "display_name": "labelimg",
   "language": "python",
   "name": "labelimg"
  },
  "language_info": {
   "codemirror_mode": {
    "name": "ipython",
    "version": 3
   },
   "file_extension": ".py",
   "mimetype": "text/x-python",
   "name": "python",
   "nbconvert_exporter": "python",
   "pygments_lexer": "ipython3",
   "version": "3.7.9"
  }
 },
 "nbformat": 4,
 "nbformat_minor": 4
}
