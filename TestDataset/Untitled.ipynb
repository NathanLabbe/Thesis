{
 "cells": [
  {
   "cell_type": "code",
   "execution_count": 4,
   "metadata": {},
   "outputs": [
    {
     "name": "stdout",
     "output_type": "stream",
     "text": [
      "Creating annotations.csv\n",
      "Creating val_annotations.csv\n",
      "Creating classes.csv\n",
      "Done\n"
     ]
    }
   ],
   "source": [
    "!ruby .\\conv_pascal_to_csv.rb --annotation-path .\\AGRICULTURE\\illegalLab\\ --image-path .\\AGRICULTURE\\illegal\\"
   ]
  }
 ],
 "metadata": {
  "kernelspec": {
   "display_name": "labelimg",
   "language": "python",
   "name": "labelimg"
  },
  "language_info": {
   "codemirror_mode": {
    "name": "ipython",
    "version": 3
   },
   "file_extension": ".py",
   "mimetype": "text/x-python",
   "name": "python",
   "nbconvert_exporter": "python",
   "pygments_lexer": "ipython3",
   "version": "3.7.9"
  }
 },
 "nbformat": 4,
 "nbformat_minor": 4
}
