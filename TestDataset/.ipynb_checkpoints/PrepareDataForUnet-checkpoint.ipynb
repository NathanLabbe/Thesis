{
 "cells": [
  {
   "cell_type": "code",
   "execution_count": 1,
   "metadata": {},
   "outputs": [],
   "source": [
    "from PIL import Image\n",
    "import os\n",
    "import os.path\n",
    "import random\n",
    "import shutil"
   ]
  },
  {
   "cell_type": "code",
   "execution_count": 3,
   "metadata": {},
   "outputs": [
    {
     "ename": "FileNotFoundError",
     "evalue": "[WinError 3] Le chemin d’accès spécifié est introuvable: './TRUE_COLOR/illegalMask'",
     "output_type": "error",
     "traceback": [
      "\u001b[1;31m---------------------------------------------------------------------------\u001b[0m",
      "\u001b[1;31mFileNotFoundError\u001b[0m                         Traceback (most recent call last)",
      "\u001b[1;32m<ipython-input-3-f374d20e5d9c>\u001b[0m in \u001b[0;36m<module>\u001b[1;34m\u001b[0m\n\u001b[1;32m----> 1\u001b[1;33m \u001b[1;32mfor\u001b[0m \u001b[0melement\u001b[0m \u001b[1;32min\u001b[0m \u001b[0mos\u001b[0m\u001b[1;33m.\u001b[0m\u001b[0mlistdir\u001b[0m\u001b[1;33m(\u001b[0m\u001b[1;34m'./TRUE_COLOR/illegalMask'\u001b[0m\u001b[1;33m)\u001b[0m\u001b[1;33m:\u001b[0m\u001b[1;33m\u001b[0m\u001b[1;33m\u001b[0m\u001b[0m\n\u001b[0m\u001b[0;32m      2\u001b[0m     \u001b[1;32mif\u001b[0m \u001b[0mos\u001b[0m\u001b[1;33m.\u001b[0m\u001b[0mpath\u001b[0m\u001b[1;33m.\u001b[0m\u001b[0misdir\u001b[0m\u001b[1;33m(\u001b[0m\u001b[0melement\u001b[0m\u001b[1;33m)\u001b[0m\u001b[1;33m:\u001b[0m\u001b[1;33m\u001b[0m\u001b[1;33m\u001b[0m\u001b[0m\n\u001b[0;32m      3\u001b[0m         \u001b[0mprint\u001b[0m\u001b[1;33m(\u001b[0m\u001b[1;34m\"'%s' un dossier\"\u001b[0m \u001b[1;33m%\u001b[0m \u001b[0melement\u001b[0m\u001b[1;33m)\u001b[0m\u001b[1;33m\u001b[0m\u001b[1;33m\u001b[0m\u001b[0m\n\u001b[0;32m      4\u001b[0m     \u001b[1;32melse\u001b[0m\u001b[1;33m:\u001b[0m\u001b[1;33m\u001b[0m\u001b[1;33m\u001b[0m\u001b[0m\n\u001b[0;32m      5\u001b[0m         \u001b[0mim\u001b[0m \u001b[1;33m=\u001b[0m \u001b[0mImage\u001b[0m\u001b[1;33m.\u001b[0m\u001b[0mopen\u001b[0m\u001b[1;33m(\u001b[0m\u001b[1;34m'./TRUE_COLOR/illegalMask/'\u001b[0m\u001b[1;33m+\u001b[0m\u001b[0melement\u001b[0m\u001b[1;33m)\u001b[0m\u001b[1;33m\u001b[0m\u001b[1;33m\u001b[0m\u001b[0m\n",
      "\u001b[1;31mFileNotFoundError\u001b[0m: [WinError 3] Le chemin d’accès spécifié est introuvable: './TRUE_COLOR/illegalMask'"
     ]
    }
   ],
   "source": [
    "for element in os.listdir('./AGRICULTURE/legalMask'):\n",
    "    if os.path.isdir(element):\n",
    "        print(\"'%s' un dossier\" % element)\n",
    "    else:\n",
    "        im = Image.open('./AGRICULTURE/legalMask/'+element)\n",
    "        element2 = element.replace('.png','.jpg')\n",
    "        im.save('./AGRICULTURE/ilegalMask/'+element2)  # or 'test.tif'\n",
    "        os.remove('./AGRICULTURE/illegalMask/'+element)"
   ]
  },
  {
   "cell_type": "code",
   "execution_count": 3,
   "metadata": {},
   "outputs": [
    {
     "name": "stdout",
     "output_type": "stream",
     "text": [
      "-56_16__-2_54_2020-09-06.jpg\n",
      "-56_16__-2_58_2020-09-06.jpg\n",
      "-56_16__-2_5_2020-09-06.jpg\n",
      "-56_24__-2_54_2020-09-06.jpg\n",
      "-56_24__-2_5_2020-09-06.jpg\n",
      "-56_2__-2_54_2020-09-06.jpg\n",
      "-56_2__-2_58_2020-09-06.jpg\n",
      "-56_2__-2_5_2020-09-06.jpg\n",
      "-59_16__2_19_2020-09-12.jpg\n",
      "-59_16__2_23_2020-09-12.jpg\n",
      "-59_2__2_15_2020-09-12.jpg\n",
      "-59_2__2_19_2020-09-12.jpg\n",
      "-59_2__2_23_2020-09-12.jpg\n",
      "-63_36__-10_04_2018-07-25.jpg\n",
      "-63_36__-10_08_2018-07-25.jpg\n",
      "-63_36__-10_0_2018-07-25.jpg\n",
      "-63_36__-9_88_2018-07-25.jpg\n",
      "-63_36__-9_92_2018-07-25.jpg\n",
      "-63_36__-9_96_2018-07-25.jpg\n",
      "-63_44__-10_04_2018-07-25.jpg\n",
      "-63_44__-10_08_2018-07-25.jpg\n",
      "-63_44__-10_0_2018-07-25.jpg\n",
      "-63_44__-9_88_2018-07-25.jpg\n",
      "-63_44__-9_92_2018-07-25.jpg\n",
      "-63_44__-9_96_2018-07-25.jpg\n",
      "-63_48__-10_04_2018-07-25.jpg\n",
      "-63_48__-10_08_2018-07-25.jpg\n",
      "-63_48__-10_0_2018-07-25.jpg\n",
      "-63_48__-9_88_2018-07-25.jpg\n",
      "-63_48__-9_92_2018-07-25.jpg\n",
      "-63_48__-9_96_2018-07-25.jpg\n",
      "-63_4__-10_04_2018-07-25.jpg\n",
      "-63_4__-10_08_2018-07-25.jpg\n",
      "-63_4__-10_0_2018-07-25.jpg\n",
      "-63_4__-9_88_2018-07-25.jpg\n",
      "-63_4__-9_92_2018-07-25.jpg\n",
      "-63_4__-9_96_2018-07-25.jpg\n",
      "-63_52__-10_04_2018-07-25.jpg\n",
      "-63_52__-10_08_2018-07-25.jpg\n",
      "-63_52__-10_0_2018-07-25.jpg\n",
      "-63_52__-9_88_2018-07-25.jpg\n",
      "-63_52__-9_92_2018-07-25.jpg\n",
      "-63_52__-9_96_2018-07-25.jpg\n",
      "-63_56__-10_04_2018-07-25.jpg\n",
      "-63_56__-10_08_2018-07-25.jpg\n",
      "-63_56__-10_0_2018-07-25.jpg\n",
      "-63_56__-9_88_2018-07-25.jpg\n",
      "-63_56__-9_92_2018-07-25.jpg\n",
      "-63_56__-9_96_2018-07-25.jpg\n",
      "-63_6__-10_04_2018-07-25.jpg\n",
      "-63_6__-10_08_2018-07-25.jpg\n",
      "-63_6__-10_0_2018-07-25.jpg\n",
      "-63_6__-9_88_2018-07-25.jpg\n",
      "-63_6__-9_92_2018-07-25.jpg\n",
      "-63_6__-9_96_2018-07-25.jpg\n"
     ]
    }
   ],
   "source": [
    "for element in os.listdir('./unet/AllMasks'):\n",
    "    if os.path.isdir(element):\n",
    "        print(\"'%s' un dossier\" % element)\n",
    "    else:\n",
    "        im = Image.open('./unet/AllMasks/'+element)\n",
    "        element2 = element.replace('.png','.jpg')\n",
    "        print(element2)\n",
    "        im.save('./unet/AllMasks/'+element2)  # or 'test.tif'\n",
    "        os.remove('./unet/AllMasks/'+element)"
   ]
  },
  {
   "cell_type": "code",
   "execution_count": 4,
   "metadata": {},
   "outputs": [
    {
     "name": "stdout",
     "output_type": "stream",
     "text": [
      "-63_23__3_57_2019-03-15.jpg\n",
      "-63_27__3_54_2019-09-21.jpg\n",
      "-63_27__3_57_2018-03-15.jpg\n",
      "-63_27__3_57_2019-03-15.jpg\n",
      "-63_27__3_57_2020-09-20.jpg\n",
      "-63_27__3_58_2019-09-21.jpg\n",
      "-63_27__3_62_2019-09-21.jpg\n",
      "-63_59__3_75_2020-09-13.jpg\n",
      "-63_59__3_75_2020-12-04.jpg\n",
      "-63_635__3_75_2020-09-13.jpg\n",
      "-70_78__-3_43_2021-01-17.jpg\n",
      "-71_56__-3_56_2021-01-17.jpg\n",
      "-71_6__-3_6_2021-01-17.jpg\n"
     ]
    }
   ],
   "source": [
    "for element in os.listdir('./unet/AllOriginals/'):\n",
    "    if not os.path.isfile('./unet/AllMasks/'+element):\n",
    "        print (element)\n",
    "        os.remove(\"./unet/AllOriginals/\"+element)\n"
   ]
  },
  {
   "cell_type": "code",
   "execution_count": 6,
   "metadata": {},
   "outputs": [
    {
     "name": "stdout",
     "output_type": "stream",
     "text": [
      "303\n"
     ]
    }
   ],
   "source": [
    "nbImages = 0\n",
    "\n",
    "\n",
    "for element in os.listdir('./unet/tmpMasks/'):\n",
    "    nbImages+=1\n",
    "print(nbImages)\n",
    "\n",
    "trainSize = 80\n",
    "trainSize = int(nbImages*trainSize/100)\n",
    "for x in range(trainSize):\n",
    "    file = random.choice(os.listdir(\"./unet/tmpMasks\")) #change dir name to whatever\n",
    "    shutil.move(\"./unet/tmpMasks/\"+file, \"./unet/trainjpg/label/\"+file)\n",
    "    \n",
    "for element in os.listdir('./unet/tmpMasks/'):\n",
    "    shutil.move(\"./unet/tmpMasks/\"+element, \"./unet/testjpg/label/\"+element)\n",
    "    \n",
    "    "
   ]
  },
  {
   "cell_type": "code",
   "execution_count": 7,
   "metadata": {},
   "outputs": [],
   "source": [
    "for element in os.listdir('./unet/trainjpg/label'):\n",
    "    if not os.path.isfile('./unet/trainjpg/image/'+element):\n",
    "        shutil.copy2(\"./unet/AllOriginals/\"+element,'./unet/trainjpg/image/'+element)"
   ]
  },
  {
   "cell_type": "code",
   "execution_count": 8,
   "metadata": {},
   "outputs": [],
   "source": [
    "for element in os.listdir('./unet/testjpg/label'):\n",
    "    if not os.path.isfile('./unet/testjpg/image/'+element):\n",
    "        shutil.copy2(\"./unet/AllOriginals/\"+element,'./unet/testjpg/image/'+element)"
   ]
  },
  {
   "cell_type": "code",
   "execution_count": 4,
   "metadata": {},
   "outputs": [],
   "source": [
    "#REMOVE SOME LEGAL MINES\n",
    "for element in os.listdir('./TRUE_COLOR/legal'):\n",
    "    if not os.path.isfile('./AGRI_LEG_MASK/'+element):\n",
    "        os.remove('./TRUE_COLOR/legal/'+element)"
   ]
  }
 ],
 "metadata": {
  "kernelspec": {
   "display_name": "labelimg",
   "language": "python",
   "name": "labelimg"
  },
  "language_info": {
   "codemirror_mode": {
    "name": "ipython",
    "version": 3
   },
   "file_extension": ".py",
   "mimetype": "text/x-python",
   "name": "python",
   "nbconvert_exporter": "python",
   "pygments_lexer": "ipython3",
   "version": "3.7.9"
  }
 },
 "nbformat": 4,
 "nbformat_minor": 4
}
