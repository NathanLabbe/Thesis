{
 "cells": [
  {
   "cell_type": "code",
   "execution_count": 2,
   "metadata": {},
   "outputs": [],
   "source": [
    "from keras.preprocessing.image import ImageDataGenerator, array_to_img, img_to_array, load_img\n",
    "import numpy as np \n",
    "import os\n",
    "import cv2\n",
    "import matplotlib.pyplot as plt\n",
    "import matplotlib.image as mpimg\n",
    "from PIL import Image"
   ]
  },
  {
   "cell_type": "code",
   "execution_count": null,
   "metadata": {},
   "outputs": [],
   "source": []
  },
  {
   "cell_type": "code",
   "execution_count": 3,
   "metadata": {},
   "outputs": [],
   "source": [
    "for element in os.listdir('./data/test/label/'):\n",
    "    im = img_to_array(load_img('./data/test/label/'+str(element),target_size=[256, 256]))\n",
    "    #print(element)\n",
    "    #display(im)\n",
    "    #plt.imshow(im)\n",
    "    #plt.show()\n",
    "    #break\n",
    "    x = np.zeros([256,256,1])\n",
    "    for i in range(256):\n",
    "        for j in range(256):\n",
    "            #print(im[i][j][0])\n",
    "            if int(im[i][j][0])== 0 :\n",
    "                x[i,j,0]=0\n",
    "            elif int(im[i][j][0])== 31 :\n",
    "                x[i,j,0]=1\n",
    "            else :\n",
    "                #print(im[i][j][0])\n",
    "                x[i,j,0]=2\n",
    "    cv2.imwrite('./data/test/newLabel/'+str(element), x)"
   ]
  },
  {
   "cell_type": "code",
   "execution_count": null,
   "metadata": {},
   "outputs": [],
   "source": []
  }
 ],
 "metadata": {
  "kernelspec": {
   "display_name": "nathanenv",
   "language": "python",
   "name": "nathanenv"
  },
  "language_info": {
   "codemirror_mode": {
    "name": "ipython",
    "version": 3
   },
   "file_extension": ".py",
   "mimetype": "text/x-python",
   "name": "python",
   "nbconvert_exporter": "python",
   "pygments_lexer": "ipython3",
   "version": "3.7.9"
  }
 },
 "nbformat": 4,
 "nbformat_minor": 4
}
