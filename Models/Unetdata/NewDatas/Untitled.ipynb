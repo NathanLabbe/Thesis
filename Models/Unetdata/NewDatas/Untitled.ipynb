{
 "cells": [
  {
   "cell_type": "code",
   "execution_count": 1,
   "metadata": {},
   "outputs": [],
   "source": [
    "from PIL import Image\n",
    "import os\n",
    "import os.path\n",
    "import random\n",
    "import shutil"
   ]
  },
  {
   "cell_type": "code",
   "execution_count": 15,
   "metadata": {},
   "outputs": [
    {
     "name": "stdout",
     "output_type": "stream",
     "text": [
      "-56_16__-2_58_2020-09-06.jpg\n",
      "-56_24__-2_54_2020-09-06.jpg\n",
      "-59_16__2_19_2020-09-12.jpg\n",
      "-59_2__2_23_2020-09-12.jpg\n",
      "-63_44__-10_04_2018-07-25.jpg\n",
      "-63_44__-9_96_2018-07-25.jpg\n",
      "-63_48__-10_04_2018-07-25.jpg\n",
      "-63_52__-10_0_2018-07-25.jpg\n",
      "-63_52__-9_88_2018-07-25.jpg\n",
      "-63_56__-9_92_2018-07-25.jpg\n",
      "-63_6__-10_08_2018-07-25.jpg\n"
     ]
    }
   ],
   "source": [
    "\n",
    "for element in os.listdir('./legalTrue/data/train/image/'):\n",
    "    if not os.path.isfile('./legalAgri/data/train/image/'+element) :\n",
    "        print (element)\n",
    "        #os.remove(\"./unet/AllOriginals/\"+element)\n",
    "        shutil.move(\"./legalTrue/data/train/image/\"+element, \"./legalTrue/data/test/image/\"+element)"
   ]
  }
 ],
 "metadata": {
  "kernelspec": {
   "display_name": "labelimg",
   "language": "python",
   "name": "labelimg"
  },
  "language_info": {
   "codemirror_mode": {
    "name": "ipython",
    "version": 3
   },
   "file_extension": ".py",
   "mimetype": "text/x-python",
   "name": "python",
   "nbconvert_exporter": "python",
   "pygments_lexer": "ipython3",
   "version": "3.7.9"
  }
 },
 "nbformat": 4,
 "nbformat_minor": 4
}
